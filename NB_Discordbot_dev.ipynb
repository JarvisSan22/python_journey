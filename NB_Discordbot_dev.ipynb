{
 "cells": [
  {
   "cell_type": "code",
   "execution_count": 3,
   "metadata": {},
   "outputs": [
    {
     "name": "stdout",
     "output_type": "stream",
     "text": [
      "Collecting nextcord\n",
      "  Downloading nextcord-2.5.0.tar.gz (927 kB)\n",
      "     -------------------------------------- 927.7/927.7 kB 8.3 MB/s eta 0:00:00\n",
      "  Installing build dependencies: started\n",
      "  Installing build dependencies: finished with status 'done'\n",
      "  Getting requirements to build wheel: started\n",
      "  Getting requirements to build wheel: finished with status 'done'\n",
      "  Preparing metadata (pyproject.toml): started\n",
      "  Preparing metadata (pyproject.toml): finished with status 'done'\n",
      "Requirement already satisfied: aiohttp<4.0.0,>=3.8.0 in c:\\users\\djarv\\anaconda3\\envs\\pt\\lib\\site-packages (from nextcord) (3.8.1)\n",
      "Requirement already satisfied: typing-extensions<5,>=4.2.0 in c:\\users\\djarv\\anaconda3\\envs\\pt\\lib\\site-packages (from nextcord) (4.4.0)\n",
      "Requirement already satisfied: attrs>=17.3.0 in c:\\users\\djarv\\anaconda3\\envs\\pt\\lib\\site-packages (from aiohttp<4.0.0,>=3.8.0->nextcord) (22.1.0)\n",
      "Requirement already satisfied: frozenlist>=1.1.1 in c:\\users\\djarv\\anaconda3\\envs\\pt\\lib\\site-packages (from aiohttp<4.0.0,>=3.8.0->nextcord) (1.3.0)\n",
      "Requirement already satisfied: charset-normalizer<3.0,>=2.0 in c:\\users\\djarv\\anaconda3\\envs\\pt\\lib\\site-packages (from aiohttp<4.0.0,>=3.8.0->nextcord) (2.0.4)\n",
      "Requirement already satisfied: aiosignal>=1.1.2 in c:\\users\\djarv\\anaconda3\\envs\\pt\\lib\\site-packages (from aiohttp<4.0.0,>=3.8.0->nextcord) (1.2.0)\n",
      "Requirement already satisfied: multidict<7.0,>=4.5 in c:\\users\\djarv\\anaconda3\\envs\\pt\\lib\\site-packages (from aiohttp<4.0.0,>=3.8.0->nextcord) (6.0.2)\n",
      "Requirement already satisfied: async-timeout<5.0,>=4.0.0a3 in c:\\users\\djarv\\anaconda3\\envs\\pt\\lib\\site-packages (from aiohttp<4.0.0,>=3.8.0->nextcord) (4.0.2)\n",
      "Requirement already satisfied: yarl<2.0,>=1.0 in c:\\users\\djarv\\anaconda3\\envs\\pt\\lib\\site-packages (from aiohttp<4.0.0,>=3.8.0->nextcord) (1.8.0)\n",
      "Requirement already satisfied: idna>=2.0 in c:\\users\\djarv\\anaconda3\\envs\\pt\\lib\\site-packages (from yarl<2.0,>=1.0->aiohttp<4.0.0,>=3.8.0->nextcord) (3.3)\n",
      "Building wheels for collected packages: nextcord\n",
      "  Building wheel for nextcord (pyproject.toml): started\n",
      "  Building wheel for nextcord (pyproject.toml): finished with status 'done'\n",
      "  Created wheel for nextcord: filename=nextcord-2.5.0-py3-none-any.whl size=1021499 sha256=cbdd90efd2d5555a63daec7252d2ec503c19becf4865b41b9a66ad2930b6670c\n",
      "  Stored in directory: c:\\users\\djarv\\appdata\\local\\pip\\cache\\wheels\\68\\13\\46\\592f4144d8e5c543971073e4e9a60f933fa36a06b2beecdfeb\n",
      "Successfully built nextcord\n",
      "Installing collected packages: nextcord\n",
      "Successfully installed nextcord-2.5.0\n"
     ]
    }
   ],
   "source": [
    "!pip install nextcord"
   ]
  },
  {
   "cell_type": "code",
   "execution_count": 1,
   "metadata": {},
   "outputs": [],
   "source": [
    "import os\n",
    "import requests\n",
    "import json\n",
    "import time\n",
    "from utils.SD_gen import generator,upscaling\n",
    "from PIL import Image\n",
    "import nextcord \n",
    "from nextcord.ext import commands \n",
    "from nextcord.ui import Button, View\n",
    "from io import BytesIO\n",
    "import base64\n",
    "#from python_journy import combine_images"
   ]
  },
  {
   "cell_type": "code",
   "execution_count": 2,
   "metadata": {},
   "outputs": [],
   "source": [
    "\n",
    "def combine_images(images):\n",
    "    # Create a blank canvas for the final grid image\n",
    "    images=[Image.open(image) for image in images]\n",
    "    grid_image = Image.new('RGB', (2 * images[0].width, 2 * images[0].height))\n",
    "\n",
    "    # Iterate over each image and paste it onto the grid\n",
    "    for i in range(2):\n",
    "        for j in range(2):\n",
    "            # Calculate the coordinates to paste the image\n",
    "            x = j * images[0].width\n",
    "            y = i * images[0].height\n",
    "\n",
    "            # Paste the image onto the grid\n",
    "            grid_image.paste(images[i*2 + j], (x, y))\n",
    "\n",
    "    return grid_image"
   ]
  },
  {
   "cell_type": "code",
   "execution_count": 3,
   "metadata": {},
   "outputs": [],
   "source": [
    "bot =commands.Bot(command_prefix=\"$\", intents=nextcord.Intents.all() )\n",
    "SD = generator()"
   ]
  },
  {
   "cell_type": "code",
   "execution_count": 4,
   "metadata": {},
   "outputs": [
    {
     "name": "stdout",
     "output_type": "stream",
     "text": [
      "820 410\n",
      " highres, masterpirce, blue hair, dark gray skin, 1girl , cat ears, \n",
      "API Call\n",
      "Recived\n"
     ]
    }
   ],
   "source": [
    "results=SD(\" highres, masterpirce, blue hair, dark gray skin, 1girl , cat ears, --ar 1:2\")"
   ]
  },
  {
   "cell_type": "code",
   "execution_count": null,
   "metadata": {},
   "outputs": [],
   "source": [
    "\n",
    "class ImageButton(nextcord.ui.Button):\n",
    "    def __init__(self, image_str: str, *args, **kwargs):\n",
    "        super().__init__(*args, **kwargs)\n",
    "        self.image_str = image_str\n",
    "\n",
    "    async def callback(self, interaction: nextcord.Interaction):\n",
    "        # Get the user who clicked the button\n",
    "        user = interaction.user\n",
    "        # Create an embed with the image\n",
    "        print(\"button click\")\n",
    "        response=upscaling(self.image_str,SD.API_URL)\n",
    "        print(response)\n",
    "        image=response[\"image\"]\n",
    "        print(image)\n",
    "        image = BytesIO(base64.decodebytes(image.encode(\"utf-8\"))) \n",
    "        image.seek(0)\n",
    "        file=nextcord.File(image,\"image.png\")\n",
    "        await interaction.response.send_message(f\"Upscaled\", ephemeral=False, file=file)"
   ]
  },
  {
   "cell_type": "code",
   "execution_count": 5,
   "metadata": {},
   "outputs": [
    {
     "ename": "RuntimeError",
     "evalue": "Cannot close a running event loop",
     "output_type": "error",
     "traceback": [
      "\u001b[1;31m---------------------------------------------------------------------------\u001b[0m",
      "\u001b[1;31mRuntimeError\u001b[0m                              Traceback (most recent call last)",
      "File \u001b[1;32mc:\\Users\\djarv\\anaconda3\\envs\\PT\\lib\\site-packages\\nextcord\\client.py:861\u001b[0m, in \u001b[0;36mClient.run\u001b[1;34m(self, *args, **kwargs)\u001b[0m\n\u001b[0;32m    860\u001b[0m \u001b[39mtry\u001b[39;00m:\n\u001b[1;32m--> 861\u001b[0m     loop\u001b[39m.\u001b[39;49mrun_forever()\n\u001b[0;32m    862\u001b[0m \u001b[39mexcept\u001b[39;00m \u001b[39mKeyboardInterrupt\u001b[39;00m:\n",
      "File \u001b[1;32mc:\\Users\\djarv\\anaconda3\\envs\\PT\\lib\\asyncio\\base_events.py:590\u001b[0m, in \u001b[0;36mBaseEventLoop.run_forever\u001b[1;34m(self)\u001b[0m\n\u001b[0;32m    589\u001b[0m \u001b[39mself\u001b[39m\u001b[39m.\u001b[39m_check_closed()\n\u001b[1;32m--> 590\u001b[0m \u001b[39mself\u001b[39;49m\u001b[39m.\u001b[39;49m_check_running()\n\u001b[0;32m    591\u001b[0m \u001b[39mself\u001b[39m\u001b[39m.\u001b[39m_set_coroutine_origin_tracking(\u001b[39mself\u001b[39m\u001b[39m.\u001b[39m_debug)\n",
      "File \u001b[1;32mc:\\Users\\djarv\\anaconda3\\envs\\PT\\lib\\asyncio\\base_events.py:582\u001b[0m, in \u001b[0;36mBaseEventLoop._check_running\u001b[1;34m(self)\u001b[0m\n\u001b[0;32m    581\u001b[0m \u001b[39mif\u001b[39;00m \u001b[39mself\u001b[39m\u001b[39m.\u001b[39mis_running():\n\u001b[1;32m--> 582\u001b[0m     \u001b[39mraise\u001b[39;00m \u001b[39mRuntimeError\u001b[39;00m(\u001b[39m'\u001b[39m\u001b[39mThis event loop is already running\u001b[39m\u001b[39m'\u001b[39m)\n\u001b[0;32m    583\u001b[0m \u001b[39mif\u001b[39;00m events\u001b[39m.\u001b[39m_get_running_loop() \u001b[39mis\u001b[39;00m \u001b[39mnot\u001b[39;00m \u001b[39mNone\u001b[39;00m:\n",
      "\u001b[1;31mRuntimeError\u001b[0m: This event loop is already running",
      "\nDuring handling of the above exception, another exception occurred:\n",
      "\u001b[1;31mRuntimeError\u001b[0m                              Traceback (most recent call last)",
      "File \u001b[1;32mc:\\Users\\djarv\\anaconda3\\envs\\PT\\lib\\site-packages\\nextcord\\client.py:118\u001b[0m, in \u001b[0;36m_cleanup_loop\u001b[1;34m(loop)\u001b[0m\n\u001b[0;32m    117\u001b[0m \u001b[39mtry\u001b[39;00m:\n\u001b[1;32m--> 118\u001b[0m     _cancel_tasks(loop)\n\u001b[0;32m    119\u001b[0m     loop\u001b[39m.\u001b[39mrun_until_complete(loop\u001b[39m.\u001b[39mshutdown_asyncgens())\n",
      "File \u001b[1;32mc:\\Users\\djarv\\anaconda3\\envs\\PT\\lib\\site-packages\\nextcord\\client.py:100\u001b[0m, in \u001b[0;36m_cancel_tasks\u001b[1;34m(loop)\u001b[0m\n\u001b[0;32m     98\u001b[0m     task\u001b[39m.\u001b[39mcancel()\n\u001b[1;32m--> 100\u001b[0m loop\u001b[39m.\u001b[39;49mrun_until_complete(asyncio\u001b[39m.\u001b[39;49mgather(\u001b[39m*\u001b[39;49mtasks, return_exceptions\u001b[39m=\u001b[39;49m\u001b[39mTrue\u001b[39;49;00m))\n\u001b[0;32m    101\u001b[0m _log\u001b[39m.\u001b[39minfo(\u001b[39m\"\u001b[39m\u001b[39mAll tasks finished cancelling.\u001b[39m\u001b[39m\"\u001b[39m)\n",
      "File \u001b[1;32mc:\\Users\\djarv\\anaconda3\\envs\\PT\\lib\\asyncio\\base_events.py:622\u001b[0m, in \u001b[0;36mBaseEventLoop.run_until_complete\u001b[1;34m(self, future)\u001b[0m\n\u001b[0;32m    621\u001b[0m \u001b[39mself\u001b[39m\u001b[39m.\u001b[39m_check_closed()\n\u001b[1;32m--> 622\u001b[0m \u001b[39mself\u001b[39;49m\u001b[39m.\u001b[39;49m_check_running()\n\u001b[0;32m    624\u001b[0m new_task \u001b[39m=\u001b[39m \u001b[39mnot\u001b[39;00m futures\u001b[39m.\u001b[39misfuture(future)\n",
      "File \u001b[1;32mc:\\Users\\djarv\\anaconda3\\envs\\PT\\lib\\asyncio\\base_events.py:582\u001b[0m, in \u001b[0;36mBaseEventLoop._check_running\u001b[1;34m(self)\u001b[0m\n\u001b[0;32m    581\u001b[0m \u001b[39mif\u001b[39;00m \u001b[39mself\u001b[39m\u001b[39m.\u001b[39mis_running():\n\u001b[1;32m--> 582\u001b[0m     \u001b[39mraise\u001b[39;00m \u001b[39mRuntimeError\u001b[39;00m(\u001b[39m'\u001b[39m\u001b[39mThis event loop is already running\u001b[39m\u001b[39m'\u001b[39m)\n\u001b[0;32m    583\u001b[0m \u001b[39mif\u001b[39;00m events\u001b[39m.\u001b[39m_get_running_loop() \u001b[39mis\u001b[39;00m \u001b[39mnot\u001b[39;00m \u001b[39mNone\u001b[39;00m:\n",
      "\u001b[1;31mRuntimeError\u001b[0m: This event loop is already running",
      "\nDuring handling of the above exception, another exception occurred:\n",
      "\u001b[1;31mRuntimeError\u001b[0m                              Traceback (most recent call last)",
      "\u001b[1;32mc:\\Users\\djarv\\Documents\\GitHub\\python_journey\\NB_Discordbot_dev.ipynb Cell 7\u001b[0m in \u001b[0;36m3\n\u001b[0;32m     <a href='vscode-notebook-cell:/c%3A/Users/djarv/Documents/GitHub/python_journey/NB_Discordbot_dev.ipynb#W6sZmlsZQ%3D%3D?line=27'>28</a>\u001b[0m         \u001b[39mawait\u001b[39;00m msg\u001b[39m.\u001b[39medit(content\u001b[39m=\u001b[39m\u001b[39m\"\u001b[39m\u001b[39m\"\u001b[39m,file\u001b[39m=\u001b[39mnextcord\u001b[39m.\u001b[39mFile(image_bytes,\u001b[39m\"\u001b[39m\u001b[39mimage.png\u001b[39m\u001b[39m\"\u001b[39m))\n\u001b[0;32m     <a href='vscode-notebook-cell:/c%3A/Users/djarv/Documents/GitHub/python_journey/NB_Discordbot_dev.ipynb#W6sZmlsZQ%3D%3D?line=28'>29</a>\u001b[0m         \u001b[39mawait\u001b[39;00m ctx\u001b[39m.\u001b[39msend(\u001b[39m\"\u001b[39m\u001b[39m---\u001b[39m\u001b[39m\"\u001b[39m,view\u001b[39m=\u001b[39mview)\n\u001b[1;32m---> <a href='vscode-notebook-cell:/c%3A/Users/djarv/Documents/GitHub/python_journey/NB_Discordbot_dev.ipynb#W6sZmlsZQ%3D%3D?line=30'>31</a>\u001b[0m bot\u001b[39m.\u001b[39;49mrun(os\u001b[39m.\u001b[39;49mgetenv(\u001b[39m\"\u001b[39;49m\u001b[39mDISCORD_TOKEN\u001b[39;49m\u001b[39m\"\u001b[39;49m))\n",
      "File \u001b[1;32mc:\\Users\\djarv\\anaconda3\\envs\\PT\\lib\\site-packages\\nextcord\\client.py:867\u001b[0m, in \u001b[0;36mClient.run\u001b[1;34m(self, *args, **kwargs)\u001b[0m\n\u001b[0;32m    865\u001b[0m     future\u001b[39m.\u001b[39mremove_done_callback(stop_loop_on_completion)\n\u001b[0;32m    866\u001b[0m     _log\u001b[39m.\u001b[39minfo(\u001b[39m\"\u001b[39m\u001b[39mCleaning up tasks.\u001b[39m\u001b[39m\"\u001b[39m)\n\u001b[1;32m--> 867\u001b[0m     _cleanup_loop(loop)\n\u001b[0;32m    869\u001b[0m \u001b[39mif\u001b[39;00m \u001b[39mnot\u001b[39;00m future\u001b[39m.\u001b[39mcancelled():\n\u001b[0;32m    870\u001b[0m     \u001b[39mtry\u001b[39;00m:\n",
      "File \u001b[1;32mc:\\Users\\djarv\\anaconda3\\envs\\PT\\lib\\site-packages\\nextcord\\client.py:122\u001b[0m, in \u001b[0;36m_cleanup_loop\u001b[1;34m(loop)\u001b[0m\n\u001b[0;32m    120\u001b[0m \u001b[39mfinally\u001b[39;00m:\n\u001b[0;32m    121\u001b[0m     _log\u001b[39m.\u001b[39minfo(\u001b[39m\"\u001b[39m\u001b[39mClosing the event loop.\u001b[39m\u001b[39m\"\u001b[39m)\n\u001b[1;32m--> 122\u001b[0m     loop\u001b[39m.\u001b[39;49mclose()\n",
      "File \u001b[1;32mc:\\Users\\djarv\\anaconda3\\envs\\PT\\lib\\asyncio\\selector_events.py:84\u001b[0m, in \u001b[0;36mBaseSelectorEventLoop.close\u001b[1;34m(self)\u001b[0m\n\u001b[0;32m     82\u001b[0m \u001b[39mdef\u001b[39;00m \u001b[39mclose\u001b[39m(\u001b[39mself\u001b[39m):\n\u001b[0;32m     83\u001b[0m     \u001b[39mif\u001b[39;00m \u001b[39mself\u001b[39m\u001b[39m.\u001b[39mis_running():\n\u001b[1;32m---> 84\u001b[0m         \u001b[39mraise\u001b[39;00m \u001b[39mRuntimeError\u001b[39;00m(\u001b[39m\"\u001b[39m\u001b[39mCannot close a running event loop\u001b[39m\u001b[39m\"\u001b[39m)\n\u001b[0;32m     85\u001b[0m     \u001b[39mif\u001b[39;00m \u001b[39mself\u001b[39m\u001b[39m.\u001b[39mis_closed():\n\u001b[0;32m     86\u001b[0m         \u001b[39mreturn\u001b[39;00m\n",
      "\u001b[1;31mRuntimeError\u001b[0m: Cannot close a running event loop"
     ]
    }
   ],
   "source": [
    "#Generate\n",
    "@bot.command()\n",
    "async def generate(ctx: commands.Context,*, prompt: str):\n",
    "    #ETA = int(time.time()+80)\n",
    "    #msg = await ctx.send(f\" ETA: <t:{ETA}:R>\")\n",
    "    #print(prompt)\n",
    "    #results=SD(prompt)\n",
    "    if not \"images\" in results:\n",
    "        print(\"Error\")\n",
    "        msg=await ctx.send(str(results[\"detail\"][\"msg\"]))\n",
    "    else:\n",
    "        images = results['images']\n",
    "        \n",
    "        #view=ImageOptionButton()\n",
    "        view= View(timeout=None)\n",
    "        for i,image in enumerate(images):\n",
    "            button=ImageButton(image_str=image,\n",
    "                         label=f\"U{i+1}\", style=nextcord.ButtonStyle.blurple)\n",
    "            image = BytesIO(base64.decodebytes(image.encode(\"utf-8\"))) \n",
    "            view.add_item(button)\n",
    "            images[i]=image\n",
    "        grid=combine_images(images)\n",
    "        \n",
    "        image_bytes = BytesIO()\n",
    "        grid.save(image_bytes, format=\"PNG\")\n",
    "        image_bytes.seek(0)\n",
    "        #view= ImageGrid_Buttons(images,image_bytes)\n",
    "        await msg.edit(content=\"\",file=nextcord.File(image_bytes,\"image.png\"))\n",
    "        await ctx.send(\"---\",view=view)\n",
    "       \n",
    "bot.run(os.getenv(\"DISCORD_TOKEN\"))"
   ]
  }
 ],
 "metadata": {
  "kernelspec": {
   "display_name": "PT",
   "language": "python",
   "name": "python3"
  },
  "language_info": {
   "codemirror_mode": {
    "name": "ipython",
    "version": 3
   },
   "file_extension": ".py",
   "mimetype": "text/x-python",
   "name": "python",
   "nbconvert_exporter": "python",
   "pygments_lexer": "ipython3",
   "version": "3.10.4"
  },
  "orig_nbformat": 4
 },
 "nbformat": 4,
 "nbformat_minor": 2
}
